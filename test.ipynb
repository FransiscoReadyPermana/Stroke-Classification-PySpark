{
 "cells": [
  {
   "cell_type": "code",
   "execution_count": 1,
   "metadata": {},
   "outputs": [],
   "source": [
    "from pyspark.sql import SparkSession"
   ]
  },
  {
   "cell_type": "code",
   "execution_count": 2,
   "metadata": {},
   "outputs": [],
   "source": [
    "spark = SparkSession.builder.appName(\"test_pyspark\").getOrCreate()"
   ]
  },
  {
   "cell_type": "code",
   "execution_count": 3,
   "metadata": {},
   "outputs": [
    {
     "data": {
      "text/html": [
       "\n",
       "            <div>\n",
       "                <p><b>SparkSession - in-memory</b></p>\n",
       "                \n",
       "        <div>\n",
       "            <p><b>SparkContext</b></p>\n",
       "\n",
       "            <p><a href=\"http://DESKTOP-29PFRVI:4040\">Spark UI</a></p>\n",
       "\n",
       "            <dl>\n",
       "              <dt>Version</dt>\n",
       "                <dd><code>v3.3.0</code></dd>\n",
       "              <dt>Master</dt>\n",
       "                <dd><code>local[*]</code></dd>\n",
       "              <dt>AppName</dt>\n",
       "                <dd><code>test_pyspark</code></dd>\n",
       "            </dl>\n",
       "        </div>\n",
       "        \n",
       "            </div>\n",
       "        "
      ],
      "text/plain": [
       "<pyspark.sql.session.SparkSession at 0x20355d3d930>"
      ]
     },
     "execution_count": 3,
     "metadata": {},
     "output_type": "execute_result"
    }
   ],
   "source": [
    "spark"
   ]
  },
  {
   "cell_type": "code",
   "execution_count": 4,
   "metadata": {},
   "outputs": [],
   "source": [
    "df = spark.read.csv(\"data.csv\", header=True, inferSchema=True)"
   ]
  },
  {
   "cell_type": "code",
   "execution_count": 5,
   "metadata": {},
   "outputs": [
    {
     "name": "stdout",
     "output_type": "stream",
     "text": [
      "root\n",
      " |-- battery_power: integer (nullable = true)\n",
      " |-- blue: integer (nullable = true)\n",
      " |-- clock_speed: double (nullable = true)\n",
      " |-- dual_sim: integer (nullable = true)\n",
      " |-- fc: integer (nullable = true)\n",
      " |-- four_g: integer (nullable = true)\n",
      " |-- int_memory: integer (nullable = true)\n",
      " |-- m_dep: double (nullable = true)\n",
      " |-- mobile_wt: integer (nullable = true)\n",
      " |-- n_cores: integer (nullable = true)\n",
      " |-- pc: integer (nullable = true)\n",
      " |-- px_height: integer (nullable = true)\n",
      " |-- px_width: integer (nullable = true)\n",
      " |-- ram: integer (nullable = true)\n",
      " |-- sc_h: integer (nullable = true)\n",
      " |-- sc_w: integer (nullable = true)\n",
      " |-- talk_time: integer (nullable = true)\n",
      " |-- three_g: integer (nullable = true)\n",
      " |-- touch_screen: integer (nullable = true)\n",
      " |-- wifi: integer (nullable = true)\n",
      " |-- price_range: integer (nullable = true)\n",
      "\n"
     ]
    }
   ],
   "source": [
    "df.printSchema()"
   ]
  },
  {
   "cell_type": "code",
   "execution_count": 7,
   "metadata": {},
   "outputs": [
    {
     "name": "stdout",
     "output_type": "stream",
     "text": [
      "+-------------+----+-----------+--------+---+------+----------+-----+---------+-------+---+---------+--------+---+----+----+---------+-------+------------+----+-----------+\n",
      "|battery_power|blue|clock_speed|dual_sim| fc|four_g|int_memory|m_dep|mobile_wt|n_cores| pc|px_height|px_width|ram|sc_h|sc_w|talk_time|three_g|touch_screen|wifi|price_range|\n",
      "+-------------+----+-----------+--------+---+------+----------+-----+---------+-------+---+---------+--------+---+----+----+---------+-------+------------+----+-----------+\n",
      "|            0|   0|          0|       0|  0|     0|         0|    0|        0|      0|  0|        0|       0|  0|   0|   0|        0|      0|           0|   0|          0|\n",
      "+-------------+----+-----------+--------+---+------+----------+-----+---------+-------+---+---------+--------+---+----+----+---------+-------+------------+----+-----------+\n",
      "\n"
     ]
    }
   ],
   "source": [
    "from pyspark.sql.functions import isnan, when, count, col\n",
    "df.select([count(when(col(c).isNull(), c)).alias(c) for c in df.columns]).show()"
   ]
  },
  {
   "cell_type": "code",
   "execution_count": 12,
   "metadata": {},
   "outputs": [
    {
     "name": "stdout",
     "output_type": "stream",
     "text": [
      "+-------------+----+-----------+--------+---+------+----------+-----+---------+-------+---+---------+--------+----+----+----+---------+-------+------------+----+-----------+\n",
      "|battery_power|blue|clock_speed|dual_sim| fc|four_g|int_memory|m_dep|mobile_wt|n_cores| pc|px_height|px_width| ram|sc_h|sc_w|talk_time|three_g|touch_screen|wifi|price_range|\n",
      "+-------------+----+-----------+--------+---+------+----------+-----+---------+-------+---+---------+--------+----+----+----+---------+-------+------------+----+-----------+\n",
      "|          842|   0|        2.2|       0|  1|     0|         7|  0.6|      188|      2|  2|       20|     756|2549|   9|   7|       19|      0|           0|   1|          1|\n",
      "|         1021|   1|        0.5|       1|  0|     1|        53|  0.7|      136|      3|  6|      905|    1988|2631|  17|   3|        7|      1|           1|   0|          2|\n",
      "|          563|   1|        0.5|       1|  2|     1|        41|  0.9|      145|      5|  6|     1263|    1716|2603|  11|   2|        9|      1|           1|   0|          2|\n",
      "|          615|   1|        2.5|       0|  0|     0|        10|  0.8|      131|      6|  9|     1216|    1786|2769|  16|   8|       11|      1|           0|   0|          2|\n",
      "|         1821|   1|        1.2|       0| 13|     1|        44|  0.6|      141|      2| 14|     1208|    1212|1411|   8|   2|       15|      1|           1|   0|          1|\n",
      "|         1859|   0|        0.5|       1|  3|     0|        22|  0.7|      164|      1|  7|     1004|    1654|1067|  17|   1|       10|      1|           0|   0|          1|\n",
      "|         1821|   0|        1.7|       0|  4|     1|        10|  0.8|      139|      8| 10|      381|    1018|3220|  13|   8|       18|      1|           0|   1|          3|\n",
      "|         1954|   0|        0.5|       1|  0|     0|        24|  0.8|      187|      4|  0|      512|    1149| 700|  16|   3|        5|      1|           1|   1|          0|\n",
      "|         1445|   1|        0.5|       0|  0|     0|        53|  0.7|      174|      7| 14|      386|     836|1099|  17|   1|       20|      1|           0|   0|          0|\n",
      "|          509|   1|        0.6|       1|  2|     1|         9|  0.1|       93|      5| 15|     1137|    1224| 513|  19|  10|       12|      1|           0|   0|          0|\n",
      "|          769|   1|        2.9|       1|  0|     0|         9|  0.1|      182|      5|  1|      248|     874|3946|   5|   2|        7|      0|           0|   0|          3|\n",
      "|         1520|   1|        2.2|       0|  5|     1|        33|  0.5|      177|      8| 18|      151|    1005|3826|  14|   9|       13|      1|           1|   1|          3|\n",
      "|         1815|   0|        2.8|       0|  2|     0|        33|  0.6|      159|      4| 17|      607|     748|1482|  18|   0|        2|      1|           0|   0|          1|\n",
      "|          803|   1|        2.1|       0|  7|     0|        17|  1.0|      198|      4| 11|      344|    1440|2680|   7|   1|        4|      1|           0|   1|          2|\n",
      "|         1866|   0|        0.5|       0| 13|     1|        52|  0.7|      185|      1| 17|      356|     563| 373|  14|   9|        3|      1|           0|   1|          0|\n",
      "|          775|   0|        1.0|       0|  3|     0|        46|  0.7|      159|      2| 16|      862|    1864| 568|  17|  15|       11|      1|           1|   1|          0|\n",
      "|          838|   0|        0.5|       0|  1|     1|        13|  0.1|      196|      8|  4|      984|    1850|3554|  10|   9|       19|      1|           0|   1|          3|\n",
      "|          595|   0|        0.9|       1|  7|     1|        23|  0.1|      121|      3| 17|      441|     810|3752|  10|   2|       18|      1|           1|   0|          3|\n",
      "|         1131|   1|        0.5|       1| 11|     0|        49|  0.6|      101|      5| 18|      658|     878|1835|  19|  13|       16|      1|           1|   0|          1|\n",
      "|          682|   1|        0.5|       0|  4|     0|        19|  1.0|      121|      4| 11|      902|    1064|2337|  11|   1|       18|      0|           1|   1|          1|\n",
      "+-------------+----+-----------+--------+---+------+----------+-----+---------+-------+---+---------+--------+----+----+----+---------+-------+------------+----+-----------+\n",
      "only showing top 20 rows\n",
      "\n"
     ]
    }
   ],
   "source": [
    "df.show()"
   ]
  },
  {
   "cell_type": "code",
   "execution_count": null,
   "metadata": {},
   "outputs": [],
   "source": []
  }
 ],
 "metadata": {
  "kernelspec": {
   "display_name": "Python 3.10.2 64-bit",
   "language": "python",
   "name": "python3"
  },
  "language_info": {
   "codemirror_mode": {
    "name": "ipython",
    "version": 3
   },
   "file_extension": ".py",
   "mimetype": "text/x-python",
   "name": "python",
   "nbconvert_exporter": "python",
   "pygments_lexer": "ipython3",
   "version": "3.10.2"
  },
  "orig_nbformat": 4,
  "vscode": {
   "interpreter": {
    "hash": "865d8b2eb28e274047ba64063dfb6a2aabf0dfec4905d304d7a76618dae6fdd4"
   }
  }
 },
 "nbformat": 4,
 "nbformat_minor": 2
}
